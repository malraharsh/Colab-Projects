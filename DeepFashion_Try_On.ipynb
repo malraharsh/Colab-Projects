{
  "nbformat": 4,
  "nbformat_minor": 0,
  "metadata": {
    "colab": {
      "name": "DeepFashion_Try_On.ipynb",
      "provenance": [],
      "collapsed_sections": [],
      "authorship_tag": "ABX9TyMbJgxnHF/CZiE7+eNYpRqy",
      "include_colab_link": true
    },
    "kernelspec": {
      "name": "python3",
      "display_name": "Python 3"
    }
  },
  "cells": [
    {
      "cell_type": "markdown",
      "metadata": {
        "id": "view-in-github",
        "colab_type": "text"
      },
      "source": [
        "<a href=\"https://colab.research.google.com/github/malraharsh/Colab-Projects/blob/main/DeepFashion_Try_On.ipynb\" target=\"_parent\"><img src=\"https://colab.research.google.com/assets/colab-badge.svg\" alt=\"Open In Colab\"/></a>"
      ]
    },
    {
      "cell_type": "code",
      "metadata": {
        "id": "KkRR2mREKsKW"
      },
      "source": [
        "from IPython.display import clear_output"
      ],
      "execution_count": null,
      "outputs": []
    },
    {
      "cell_type": "code",
      "metadata": {
        "colab": {
          "base_uri": "https://localhost:8080/"
        },
        "id": "mZ3u8EhdI-jz",
        "outputId": "140207b0-985f-4c12-b583-d78e3dbe2b70"
      },
      "source": [
        "!pip install gdown"
      ],
      "execution_count": null,
      "outputs": [
        {
          "output_type": "stream",
          "text": [
            "Requirement already satisfied: gdown in /usr/local/lib/python3.6/dist-packages (3.6.4)\n",
            "Requirement already satisfied: requests in /usr/local/lib/python3.6/dist-packages (from gdown) (2.23.0)\n",
            "Requirement already satisfied: six in /usr/local/lib/python3.6/dist-packages (from gdown) (1.15.0)\n",
            "Requirement already satisfied: tqdm in /usr/local/lib/python3.6/dist-packages (from gdown) (4.41.1)\n",
            "Requirement already satisfied: certifi>=2017.4.17 in /usr/local/lib/python3.6/dist-packages (from requests->gdown) (2020.12.5)\n",
            "Requirement already satisfied: idna<3,>=2.5 in /usr/local/lib/python3.6/dist-packages (from requests->gdown) (2.10)\n",
            "Requirement already satisfied: urllib3!=1.25.0,!=1.25.1,<1.26,>=1.21.1 in /usr/local/lib/python3.6/dist-packages (from requests->gdown) (1.24.3)\n",
            "Requirement already satisfied: chardet<4,>=3.0.2 in /usr/local/lib/python3.6/dist-packages (from requests->gdown) (3.0.4)\n"
          ],
          "name": "stdout"
        }
      ]
    },
    {
      "cell_type": "code",
      "metadata": {
        "colab": {
          "base_uri": "https://localhost:8080/"
        },
        "id": "wvzP4NZ6GtAO",
        "outputId": "ffc78a10-66e0-44c8-9c52-6a968cad03a1"
      },
      "source": [
        "!pip install tensorboardX"
      ],
      "execution_count": null,
      "outputs": [
        {
          "output_type": "stream",
          "text": [
            "Collecting tensorboardX\n",
            "\u001b[?25l  Downloading https://files.pythonhosted.org/packages/af/0c/4f41bcd45db376e6fe5c619c01100e9b7531c55791b7244815bac6eac32c/tensorboardX-2.1-py2.py3-none-any.whl (308kB)\n",
            "\r\u001b[K     |█                               | 10kB 15.9MB/s eta 0:00:01\r\u001b[K     |██▏                             | 20kB 10.1MB/s eta 0:00:01\r\u001b[K     |███▏                            | 30kB 8.0MB/s eta 0:00:01\r\u001b[K     |████▎                           | 40kB 7.2MB/s eta 0:00:01\r\u001b[K     |█████▎                          | 51kB 4.3MB/s eta 0:00:01\r\u001b[K     |██████▍                         | 61kB 4.7MB/s eta 0:00:01\r\u001b[K     |███████▍                        | 71kB 4.9MB/s eta 0:00:01\r\u001b[K     |████████▌                       | 81kB 5.2MB/s eta 0:00:01\r\u001b[K     |█████████▌                      | 92kB 5.6MB/s eta 0:00:01\r\u001b[K     |██████████▋                     | 102kB 5.4MB/s eta 0:00:01\r\u001b[K     |███████████▊                    | 112kB 5.4MB/s eta 0:00:01\r\u001b[K     |████████████▊                   | 122kB 5.4MB/s eta 0:00:01\r\u001b[K     |█████████████▉                  | 133kB 5.4MB/s eta 0:00:01\r\u001b[K     |██████████████▉                 | 143kB 5.4MB/s eta 0:00:01\r\u001b[K     |████████████████                | 153kB 5.4MB/s eta 0:00:01\r\u001b[K     |█████████████████               | 163kB 5.4MB/s eta 0:00:01\r\u001b[K     |██████████████████              | 174kB 5.4MB/s eta 0:00:01\r\u001b[K     |███████████████████             | 184kB 5.4MB/s eta 0:00:01\r\u001b[K     |████████████████████▏           | 194kB 5.4MB/s eta 0:00:01\r\u001b[K     |█████████████████████▎          | 204kB 5.4MB/s eta 0:00:01\r\u001b[K     |██████████████████████▎         | 215kB 5.4MB/s eta 0:00:01\r\u001b[K     |███████████████████████▍        | 225kB 5.4MB/s eta 0:00:01\r\u001b[K     |████████████████████████▍       | 235kB 5.4MB/s eta 0:00:01\r\u001b[K     |█████████████████████████▌      | 245kB 5.4MB/s eta 0:00:01\r\u001b[K     |██████████████████████████▌     | 256kB 5.4MB/s eta 0:00:01\r\u001b[K     |███████████████████████████▋    | 266kB 5.4MB/s eta 0:00:01\r\u001b[K     |████████████████████████████▋   | 276kB 5.4MB/s eta 0:00:01\r\u001b[K     |█████████████████████████████▊  | 286kB 5.4MB/s eta 0:00:01\r\u001b[K     |██████████████████████████████▊ | 296kB 5.4MB/s eta 0:00:01\r\u001b[K     |███████████████████████████████▉| 307kB 5.4MB/s eta 0:00:01\r\u001b[K     |████████████████████████████████| 317kB 5.4MB/s \n",
            "\u001b[?25hRequirement already satisfied: six in /usr/local/lib/python3.6/dist-packages (from tensorboardX) (1.15.0)\n",
            "Requirement already satisfied: protobuf>=3.8.0 in /usr/local/lib/python3.6/dist-packages (from tensorboardX) (3.12.4)\n",
            "Requirement already satisfied: numpy in /usr/local/lib/python3.6/dist-packages (from tensorboardX) (1.19.5)\n",
            "Requirement already satisfied: setuptools in /usr/local/lib/python3.6/dist-packages (from protobuf>=3.8.0->tensorboardX) (51.3.3)\n",
            "Installing collected packages: tensorboardX\n",
            "Successfully installed tensorboardX-2.1\n"
          ],
          "name": "stdout"
        }
      ]
    },
    {
      "cell_type": "code",
      "metadata": {
        "colab": {
          "base_uri": "https://localhost:8080/"
        },
        "id": "mEewzX6lGQQu",
        "outputId": "93fc0e2c-0d8b-4980-c9bf-29fda5d81615"
      },
      "source": [
        "!git clone https://github.com/switchablenorms/DeepFashion_Try_On.git"
      ],
      "execution_count": null,
      "outputs": [
        {
          "output_type": "stream",
          "text": [
            "Cloning into 'DeepFashion_Try_On'...\n",
            "remote: Enumerating objects: 188, done.\u001b[K\n",
            "remote: Total 188 (delta 0), reused 0 (delta 0), pack-reused 188\u001b[K\n",
            "Receiving objects: 100% (188/188), 13.44 MiB | 34.94 MiB/s, done.\n",
            "Resolving deltas: 100% (65/65), done.\n"
          ],
          "name": "stdout"
        }
      ]
    },
    {
      "cell_type": "code",
      "metadata": {
        "colab": {
          "base_uri": "https://localhost:8080/"
        },
        "id": "u59t36D9IMKG",
        "outputId": "07d91c19-f809-4fb4-d713-3f14b3c04a9a"
      },
      "source": [
        "%cd /content/"
      ],
      "execution_count": null,
      "outputs": [
        {
          "output_type": "stream",
          "text": [
            "/content\n"
          ],
          "name": "stdout"
        }
      ]
    },
    {
      "cell_type": "code",
      "metadata": {
        "colab": {
          "base_uri": "https://localhost:8080/"
        },
        "id": "xb_UcTJLH8Zu",
        "outputId": "21a575af-2765-4de0-c223-2d5cc7dcd641"
      },
      "source": [
        "#data\r\n",
        "!gdown --id 1tE7hcVFm8Td8kRh5iYRBSDFdvZIkbUIR"
      ],
      "execution_count": null,
      "outputs": [
        {
          "output_type": "stream",
          "text": [
            "Downloading...\n",
            "From: https://drive.google.com/uc?id=1tE7hcVFm8Td8kRh5iYRBSDFdvZIkbUIR\n",
            "To: /content/Data_preprocessing.zip\n",
            "143MB [00:01, 82.9MB/s]\n"
          ],
          "name": "stdout"
        }
      ]
    },
    {
      "cell_type": "code",
      "metadata": {
        "id": "exgCrmKvKCdX"
      },
      "source": [
        "!unzip /content/Data_preprocessing.zip -d /content/DeepFashion_Try_On/Data_preprocessing\r\n",
        "clear_output()"
      ],
      "execution_count": null,
      "outputs": []
    },
    {
      "cell_type": "code",
      "metadata": {
        "colab": {
          "base_uri": "https://localhost:8080/"
        },
        "id": "o0dlYx9mMVuK",
        "outputId": "13ca53b5-96ac-4ace-e9fc-352a696f26ee"
      },
      "source": [
        "#checkpoints\r\n",
        "!gdown --id 1UWT6esQIU_d4tUm8cjxDKMhB8joQbrFx"
      ],
      "execution_count": null,
      "outputs": [
        {
          "output_type": "stream",
          "text": [
            "Downloading...\n",
            "From: https://drive.google.com/uc?id=1UWT6esQIU_d4tUm8cjxDKMhB8joQbrFx\n",
            "To: /content/ACGPN_checkpoints.zip\n",
            "524MB [00:02, 193MB/s]\n"
          ],
          "name": "stdout"
        }
      ]
    },
    {
      "cell_type": "code",
      "metadata": {
        "id": "NLzX-k5IMpD5"
      },
      "source": [
        "!unzip /content/ACGPN_checkpoints.zip -d /content/DeepFashion_Try_On/ACGPN_inference/checkpoints\r\n",
        "clear_output()"
      ],
      "execution_count": null,
      "outputs": []
    },
    {
      "cell_type": "code",
      "metadata": {
        "colab": {
          "base_uri": "https://localhost:8080/"
        },
        "id": "xBYTy3IgGRnd",
        "outputId": "58c9af17-12b7-422c-8564-4aac73f94664"
      },
      "source": [
        "%cd /content/DeepFashion_Try_On"
      ],
      "execution_count": null,
      "outputs": [
        {
          "output_type": "stream",
          "text": [
            "/content/DeepFashion_Try_On\n"
          ],
          "name": "stdout"
        }
      ]
    },
    {
      "cell_type": "code",
      "metadata": {
        "colab": {
          "base_uri": "https://localhost:8080/"
        },
        "id": "Fjmb_kMUGjP4",
        "outputId": "38c34c29-c896-47f3-e817-a2e52d3c9e29"
      },
      "source": [
        "%cd ACGPN_inference/"
      ],
      "execution_count": null,
      "outputs": [
        {
          "output_type": "stream",
          "text": [
            "/content/DeepFashion_Try_On/ACGPN_inference\n"
          ],
          "name": "stdout"
        }
      ]
    },
    {
      "cell_type": "code",
      "metadata": {
        "id": "hh94_0FhGolw"
      },
      "source": [
        "!python test.py"
      ],
      "execution_count": null,
      "outputs": []
    },
    {
      "cell_type": "code",
      "metadata": {
        "id": "P5MpFCx2HbsN"
      },
      "source": [
        "!python tps_grid_gen.py"
      ],
      "execution_count": null,
      "outputs": []
    },
    {
      "cell_type": "code",
      "metadata": {
        "id": "KWt32tqoQYSI"
      },
      "source": [
        "!python grid_sample.py"
      ],
      "execution_count": null,
      "outputs": []
    },
    {
      "cell_type": "code",
      "metadata": {
        "id": "-4roriOTSelo"
      },
      "source": [
        ""
      ],
      "execution_count": null,
      "outputs": []
    }
  ]
}