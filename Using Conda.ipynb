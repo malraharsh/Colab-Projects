{
  "nbformat": 4,
  "nbformat_minor": 0,
  "metadata": {
    "colab": {
      "name": "cp-vton.ipynb",
      "provenance": [],
      "collapsed_sections": [],
      "authorship_tag": "ABX9TyPPqmKIa6xe4qyIqzTSt7E2",
      "include_colab_link": true
    },
    "kernelspec": {
      "name": "python3",
      "display_name": "Python 3"
    },
    "accelerator": "GPU"
  },
  "cells": [
    {
      "cell_type": "markdown",
      "metadata": {
        "id": "view-in-github",
        "colab_type": "text"
      },
      "source": [
        "<a href=\"https://colab.research.google.com/github/malraharsh/Colab-Projects/blob/main/Using%20Conda.ipynb\" target=\"_parent\"><img src=\"https://colab.research.google.com/assets/colab-badge.svg\" alt=\"Open In Colab\"/></a>"
      ]
    },
    {
      "cell_type": "code",
      "metadata": {
        "id": "_YV8zjI8cAwf"
      },
      "source": [
        "from IPython.display import clear_output"
      ],
      "execution_count": null,
      "outputs": []
    },
    {
      "cell_type": "code",
      "metadata": {
        "colab": {
          "base_uri": "https://localhost:8080/"
        },
        "id": "VNDg4Q1IPGt9",
        "outputId": "b8b0b8e8-2b1f-4f26-9b4a-283658d0a67a"
      },
      "source": [
        "!pip install tensorboardX"
      ],
      "execution_count": null,
      "outputs": [
        {
          "output_type": "stream",
          "text": [
            "Collecting tensorboardX\n",
            "\u001b[?25l  Downloading https://files.pythonhosted.org/packages/af/0c/4f41bcd45db376e6fe5c619c01100e9b7531c55791b7244815bac6eac32c/tensorboardX-2.1-py2.py3-none-any.whl (308kB)\n",
            "\r\u001b[K     |█                               | 10kB 16.8MB/s eta 0:00:01\r\u001b[K     |██▏                             | 20kB 20.6MB/s eta 0:00:01\r\u001b[K     |███▏                            | 30kB 10.6MB/s eta 0:00:01\r\u001b[K     |████▎                           | 40kB 8.5MB/s eta 0:00:01\r\u001b[K     |█████▎                          | 51kB 4.4MB/s eta 0:00:01\r\u001b[K     |██████▍                         | 61kB 5.0MB/s eta 0:00:01\r\u001b[K     |███████▍                        | 71kB 5.1MB/s eta 0:00:01\r\u001b[K     |████████▌                       | 81kB 5.5MB/s eta 0:00:01\r\u001b[K     |█████████▌                      | 92kB 5.9MB/s eta 0:00:01\r\u001b[K     |██████████▋                     | 102kB 4.3MB/s eta 0:00:01\r\u001b[K     |███████████▊                    | 112kB 4.3MB/s eta 0:00:01\r\u001b[K     |████████████▊                   | 122kB 4.3MB/s eta 0:00:01\r\u001b[K     |█████████████▉                  | 133kB 4.3MB/s eta 0:00:01\r\u001b[K     |██████████████▉                 | 143kB 4.3MB/s eta 0:00:01\r\u001b[K     |████████████████                | 153kB 4.3MB/s eta 0:00:01\r\u001b[K     |█████████████████               | 163kB 4.3MB/s eta 0:00:01\r\u001b[K     |██████████████████              | 174kB 4.3MB/s eta 0:00:01\r\u001b[K     |███████████████████             | 184kB 4.3MB/s eta 0:00:01\r\u001b[K     |████████████████████▏           | 194kB 4.3MB/s eta 0:00:01\r\u001b[K     |█████████████████████▎          | 204kB 4.3MB/s eta 0:00:01\r\u001b[K     |██████████████████████▎         | 215kB 4.3MB/s eta 0:00:01\r\u001b[K     |███████████████████████▍        | 225kB 4.3MB/s eta 0:00:01\r\u001b[K     |████████████████████████▍       | 235kB 4.3MB/s eta 0:00:01\r\u001b[K     |█████████████████████████▌      | 245kB 4.3MB/s eta 0:00:01\r\u001b[K     |██████████████████████████▌     | 256kB 4.3MB/s eta 0:00:01\r\u001b[K     |███████████████████████████▋    | 266kB 4.3MB/s eta 0:00:01\r\u001b[K     |████████████████████████████▋   | 276kB 4.3MB/s eta 0:00:01\r\u001b[K     |█████████████████████████████▊  | 286kB 4.3MB/s eta 0:00:01\r\u001b[K     |██████████████████████████████▊ | 296kB 4.3MB/s eta 0:00:01\r\u001b[K     |███████████████████████████████▉| 307kB 4.3MB/s eta 0:00:01\r\u001b[K     |████████████████████████████████| 317kB 4.3MB/s \n",
            "\u001b[?25hRequirement already satisfied: numpy in /usr/local/lib/python3.6/dist-packages (from tensorboardX) (1.19.5)\n",
            "Requirement already satisfied: protobuf>=3.8.0 in /usr/local/lib/python3.6/dist-packages (from tensorboardX) (3.12.4)\n",
            "Requirement already satisfied: six in /usr/local/lib/python3.6/dist-packages (from tensorboardX) (1.15.0)\n",
            "Requirement already satisfied: setuptools in /usr/local/lib/python3.6/dist-packages (from protobuf>=3.8.0->tensorboardX) (51.1.1)\n",
            "Installing collected packages: tensorboardX\n",
            "Successfully installed tensorboardX-2.1\n"
          ],
          "name": "stdout"
        }
      ]
    },
    {
      "cell_type": "code",
      "metadata": {
        "colab": {
          "base_uri": "https://localhost:8080/"
        },
        "id": "K2PxBDhykPbm",
        "outputId": "006a0edd-9a93-4f99-c6e0-05027952b7b6"
      },
      "source": [
        "!pip install -q condacolab\r\n",
        "import condacolab\r\n",
        "condacolab.install()"
      ],
      "execution_count": null,
      "outputs": [
        {
          "output_type": "stream",
          "text": [
            "⏬ Downloading https://github.com/jaimergp/miniforge/releases/latest/download/Mambaforge-colab-Linux-x86_64.sh...\n",
            "📦 Installing...\n",
            "📌 Adjusting configuration...\n",
            "🩹 Patching environment...\n",
            "⏲ Done in 0:00:43\n",
            "🔁 Restarting kernel...\n"
          ],
          "name": "stdout"
        }
      ]
    },
    {
      "cell_type": "code",
      "metadata": {
        "colab": {
          "base_uri": "https://localhost:8080/"
        },
        "id": "mCNqCNHXL5LI",
        "outputId": "3c7bd643-fd00-4c84-fa2e-87bc401f7b9e"
      },
      "source": [
        "!git clone https://github.com/sergeywong/cp-vton.git"
      ],
      "execution_count": null,
      "outputs": [
        {
          "output_type": "stream",
          "text": [
            "Cloning into 'cp-vton'...\n",
            "remote: Enumerating objects: 123, done.\u001b[K\n",
            "remote: Total 123 (delta 0), reused 0 (delta 0), pack-reused 123\u001b[K\n",
            "Receiving objects: 100% (123/123), 809.62 KiB | 1.00 MiB/s, done.\n",
            "Resolving deltas: 100% (64/64), done.\n"
          ],
          "name": "stdout"
        }
      ]
    },
    {
      "cell_type": "code",
      "metadata": {
        "colab": {
          "base_uri": "https://localhost:8080/"
        },
        "id": "7M78LzFYMAbB",
        "outputId": "5cdc6e77-8b9d-47ed-e17f-c8a6e2055533"
      },
      "source": [
        "%cd cp-vton"
      ],
      "execution_count": null,
      "outputs": [
        {
          "output_type": "stream",
          "text": [
            "/content/cp-vton\n"
          ],
          "name": "stdout"
        }
      ]
    },
    {
      "cell_type": "code",
      "metadata": {
        "colab": {
          "base_uri": "https://localhost:8080/"
        },
        "id": "GxTO-FtjkTJL",
        "outputId": "8fdb379d-515b-4efa-e4fd-8786287e339a"
      },
      "source": [
        "!conda env update -n base -f environment.yml"
      ],
      "execution_count": null,
      "outputs": [
        {
          "output_type": "stream",
          "text": [
            "Collecting package metadata (repodata.json): - \b\b\\ \b\b| \b\b/ \b\b- \b\b\\ \b\b| \b\b/ \b\b- \b\b\\ \b\b| \b\b/ \b\b- \b\b\\ \b\b| \b\b/ \b\b- \b\b\\ \b\b| \b\b/ \b\b- \b\b\\ \b\b| \b\b/ \b\b- \b\b\\ \b\b| \b\b/ \b\b- \b\b\\ \b\b| \b\b/ \b\b- \b\b\\ \b\b| \b\b/ \b\b- \b\b\\ \b\b| \b\b/ \b\b- \b\b\\ \b\b| \b\b/ \b\b- \b\b\\ \b\b| \b\b/ \b\b- \b\b\\ \b\b| \b\b/ \b\b- \b\b\\ \b\b| \b\b/ \b\b- \b\b\\ \b\b| \b\b/ \b\b- \b\b\\ \b\b| \b\b/ \b\b- \b\b\\ \b\b| \b\b/ \b\b- \b\b\\ \b\b| \b\b/ \b\b- \b\b\\ \b\b| \b\b/ \b\b- \b\b\\ \b\b| \b\b/ \b\b- \b\b\\ \b\b| \b\b/ \b\b- \b\b\\ \b\b| \b\b/ \b\b- \b\b\\ \b\b| \b\b/ \b\b- \b\b\\ \b\b| \b\b/ \b\b- \b\b\\ \b\b| \b\b/ \b\b- \b\b\\ \b\b| \b\b/ \b\b- \b\b\\ \b\b| \b\b/ \b\b- \b\b\\ \b\b| \b\b/ \b\b- \b\b\\ \b\b| \b\b/ \b\b- \b\b\\ \b\b| \b\b/ \b\b- \b\b\\ \b\b| \b\b/ \b\b- \b\b\\ \b\b| \b\b/ \b\b- \b\b\\ \b\b| \b\b/ \b\b- \b\b\\ \b\b| \b\b/ \b\b- \b\b\\ \b\b| \b\b/ \b\b- \b\b\\ \b\b| \b\b/ \b\b- \b\b\\ \b\b| \b\b/ \b\b- \b\b\\ \b\b| \b\b/ \b\b- \b\b\\ \b\b| \b\b/ \b\b- \b\b\\ \b\b| \b\b/ \b\b- \b\b\\ \b\b| \b\b/ \b\b- \b\b\\ \b\b| \b\b/ \b\b- \b\b\\ \b\b| \b\b/ \b\b- \b\b\\ \b\b| \b\b/ \b\b- \b\b\\ \b\b| \b\b/ \b\b- \b\b\\ \b\b| \b\b/ \b\b- \b\b\\ \b\b| \b\b/ \b\b- \b\b\\ \b\b| \b\b/ \b\b- \b\b\\ \b\b| \b\b/ \b\b- \b\b\\ \b\b| \b\b/ \b\b- \b\b\\ \b\b| \b\b/ \b\b- \b\b\\ \b\b| \b\b/ \b\b- \b\b\\ \b\b| \b\b/ \b\b- \b\b\\ \b\b| \b\b/ \b\b- \b\b\\ \b\b| \b\b/ \b\b- \b\b\\ \b\b| \b\b/ \b\b- \b\b\\ \b\b| \b\b/ \b\b- \b\b\\ \b\b| \b\b/ \b\b- \b\b\\ \b\b| \b\b/ \b\b- \b\b\\ \b\b| \b\b/ \b\b- \b\b\\ \b\b| \b\b/ \b\b- \b\b\\ \b\b| \b\b/ \b\b- \b\b\\ \b\b| \b\b/ \b\bdone\n",
            "Solving environment: \\ \b\b| \b\b/ \b\b- \b\b\\ \b\b| \b\b/ \b\b- \b\b\\ \b\b| \b\b/ \b\b- \b\b\\ \b\b| \b\b/ \b\b- \b\b\\ \b\b| \b\b/ \b\b- \b\b\\ \b\b| \b\b/ \b\b- \b\b\\ \b\b| \b\b/ \b\b- \b\b\\ \b\b| \b\b/ \b\b- \b\b\\ \b\b| \b\b/ \b\b- \b\b\\ \b\b| \b\b/ \b\b- \b\b\\ \b\b| \b\b/ \b\b- \b\b\\ \b\b| \b\b/ \b\b- \b\b\\ \b\b| \b\b/ \b\b- \b\b\\ \b\b| \b\b/ \b\b- \b\b\\ \b\b| \b\b/ \b\b- \b\b\\ \b\b| \b\b/ \b\b- \b\b\\ \b\b| \b\b/ \b\b- \b\b\\ \b\b| \b\b/ \b\b- \b\b\\ \b\b| \b\b/ \b\b- \b\b\\ \b\b| \b\b/ \b\b- \b\b\\ \b\b| \b\b/ \b\b- \b\b\\ \b\b| \b\b/ \b\b- \b\b\\ \b\b| \b\b/ \b\b- \b\b\\ \b\b| \b\b/ \b\b- \b\b\\ \b\b| \b\b/ \b\b- \b\b\\ \b\b| \b\b/ \b\b- \b\b\\ \b\b| \b\b/ \b\b- \b\b\\ WARNING conda.core.solve:_add_specs(611): pinned spec python=3.6 conflicts with explicit specs.  Overriding pinned spec.\n",
            "WARNING conda.core.solve:_add_specs(611): pinned spec cudatoolkit=10.1 conflicts with explicit specs.  Overriding pinned spec.\n",
            "\b\b| \b\b/ \b\b- \b\b\\ \b\b| \b\b/ \b\b- \b\b\\ \b\b| \b\b/ \b\b- \b\b\\ \b\b| \b\b/ \b\b- \b\b\\ \b\b| \b\b/ \b\b- \b\b\\ \b\b| \b\b/ \b\b- \b\b\\ \b\b| \b\b/ \b\b- \b\b\\ \b\b| \b\b/ \b\b- \b\b\\ \b\b| \b\b/ \b\b- \b\b\\ \b\b| \b\b/ \b\b- \b\b\\ \b\b| \b\b/ \b\b- \b\b\\ \b\b| \b\b/ \b\b- \b\b\\ \b\b| \b\b/ \b\b- \b\b\\ \b\b| \b\b/ \b\b- \b\b\\ \b\b| \b\b/ \b\b- \b\b\\ \b\b| \b\b/ \b\b- \b\b\\ \b\b| \b\b/ \b\b- \b\b\\ \b\b| \b\b/ \b\b- \b\b\\ \b\b| \b\b/ \b\b- \b\b\\ \b\b| \b\b/ \b\b- \b\b\\ \b\b| \b\b/ \b\b- \b\b\\ \b\b| \b\b/ \b\b- \b\b\\ \b\b| \b\b/ \b\b- \b\b\\ \b\b| \b\b/ \b\b- \b\b\\ \b\b| \b\b/ \b\b- \b\b\\ \b\b| \b\b/ \b\b- \b\b\\ \b\b| \b\b/ \b\b- \b\b\\ \b\b| \b\b/ \b\b- \b\b\\ \b\b| \b\b/ \b\b- \b\b\\ \b\b| \b\b/ \b\b- \b\bfailed\n",
            "\n",
            "SpecsConfigurationConflictError: Requested specs conflict with configured specs.\n",
            "  requested specs: \n",
            "    - blas==1.0=mkl\n",
            "    - ca-certificates==2019.1.23=0\n",
            "    - certifi==2018.8.24=py35_1\n",
            "    - cffi==1.11.5=py35he75722e_1\n",
            "    - conda==4.9.2\n",
            "    - cuda75==1.0=hf2493ae_0\n",
            "    - cuda90==1.0=h6433d27_0\n",
            "    - cudatoolkit==9.0=h13b8566_0\n",
            "    - cudnn==7.3.1=cuda9.0_0\n",
            "    - freetype==2.9.1=h8a8886c_1\n",
            "    - intel-openmp==2019.3=199\n",
            "    - jpeg==9b=h024ee3a_2\n",
            "    - libedit==3.1.20181209=hc058e9b_0\n",
            "    - libffi==3.2.1=hd88cf55_4\n",
            "    - libgcc-ng==8.2.0=hdf63c60_1\n",
            "    - libgfortran-ng==7.3.0=hdf63c60_0\n",
            "    - libpng==1.6.37=hbc83047_0\n",
            "    - libstdcxx-ng==8.2.0=hdf63c60_1\n",
            "    - libtiff==4.0.10=h2733197_2\n",
            "    - mamba\n",
            "    - mkl==2018.0.3=1\n",
            "    - mkl_fft==1.0.6=py35h7dd41cf_0\n",
            "    - mkl_random==1.0.1=py35h4414c95_1\n",
            "    - nccl==1.3.5=cuda9.0_0\n",
            "    - ncurses==6.1=he6710b0_1\n",
            "    - ninja==1.8.2=py35h6bb024c_1\n",
            "    - numpy-base==1.15.2=py35h81de0dd_0\n",
            "    - numpy==1.15.2=py35h1d66e8a_0\n",
            "    - olefile==0.46=py35_0\n",
            "    - openssl==1.0.2r=h7b6447c_0\n",
            "    - pillow==5.2.0=py35heded4f4_0\n",
            "    - pip==10.0.1=py35_0\n",
            "    - pycparser==2.19=py35_0\n",
            "    - python==3.5.6=hc3d631a_0\n",
            "    - pytorch==0.4.1=py35_py27__9.0.176_7.1.2_2\n",
            "    - readline==7.0=h7b6447c_5\n",
            "    - setuptools==40.2.0=py35_0\n",
            "    - six==1.11.0=py35_1\n",
            "    - sqlite==3.28.0=h7b6447c_0\n",
            "    - tk==8.6.8=hbc83047_0\n",
            "    - torchvision==0.2.1=py_2\n",
            "    - wheel==0.31.1=py35_0\n",
            "    - xz==5.2.4=h14c3975_4\n",
            "    - zlib==1.2.11=h7b6447c_3\n",
            "    - zstd==1.3.7=h0b5b093_0\n",
            "  pinned specs: \n",
            "    - python_abi=3.6[build=*cp36*]\n",
            "Use 'conda config --show-sources' to look for 'pinned_specs' and 'track_features'\n",
            "configuration parameters.  Pinned specs may also be defined in the file\n",
            "/usr/local/conda-meta/pinned.\n",
            "\n",
            "\n"
          ],
          "name": "stdout"
        }
      ]
    },
    {
      "cell_type": "code",
      "metadata": {
        "id": "PIkazuKVhK9A"
      },
      "source": [
        "import torch"
      ],
      "execution_count": null,
      "outputs": []
    },
    {
      "cell_type": "code",
      "metadata": {
        "colab": {
          "base_uri": "https://localhost:8080/",
          "height": 35
        },
        "id": "Le-KKhZBhTCN",
        "outputId": "9664df39-c91a-4228-d0de-685f117b6cc0"
      },
      "source": [
        "torch.__version__"
      ],
      "execution_count": null,
      "outputs": [
        {
          "output_type": "execute_result",
          "data": {
            "application/vnd.google.colaboratory.intrinsic+json": {
              "type": "string"
            },
            "text/plain": [
              "'1.7.0+cu101'"
            ]
          },
          "metadata": {
            "tags": []
          },
          "execution_count": 5
        }
      ]
    },
    {
      "cell_type": "code",
      "metadata": {
        "colab": {
          "base_uri": "https://localhost:8080/"
        },
        "id": "HSCMw7q0MJ9a",
        "outputId": "1b6b4e53-dc23-463c-a927-9781108a406b"
      },
      "source": [
        "!python data_download.py"
      ],
      "execution_count": null,
      "outputs": [
        {
          "output_type": "stream",
          "text": [
            "[*] Downloading data...\n",
            "\n"
          ],
          "name": "stdout"
        }
      ]
    },
    {
      "cell_type": "code",
      "metadata": {
        "colab": {
          "base_uri": "https://localhost:8080/"
        },
        "id": "bqY2ZrgOMVoL",
        "outputId": "786d5bae-6649-4aa5-ee20-e2a3e495cfab"
      },
      "source": [
        "!python train.py --name gmm_train_new --stage GMM --workers 4 --save_count 5000 --shuffle"
      ],
      "execution_count": null,
      "outputs": [
        {
          "output_type": "stream",
          "text": [
            "Traceback (most recent call last):\n",
            "  File \"train.py\", line 2, in <module>\n",
            "    import torch\n",
            "ModuleNotFoundError: No module named 'torch'\n"
          ],
          "name": "stdout"
        }
      ]
    },
    {
      "cell_type": "code",
      "metadata": {
        "colab": {
          "base_uri": "https://localhost:8080/"
        },
        "id": "8DbttsEzSC1R",
        "outputId": "d4fc61c8-bc83-4a01-e580-24ac856f9fbd"
      },
      "source": [
        "!python test.py --name gmm_traintest_new --stage GMM --workers 4 --datamode test --data_list test_pairs.txt --checkpoint checkpoints/gmm_train_new/gmm_final.pth"
      ],
      "execution_count": null,
      "outputs": [
        {
          "output_type": "stream",
          "text": [
            "Traceback (most recent call last):\n",
            "  File \"test.py\", line 2, in <module>\n",
            "    import torch\n",
            "ModuleNotFoundError: No module named 'torch'\n"
          ],
          "name": "stdout"
        }
      ]
    }
  ]
}